{
 "cells": [
  {
   "cell_type": "code",
   "execution_count": 2,
   "metadata": {},
   "outputs": [
    {
     "name": "stdout",
     "output_type": "stream",
     "text": [
      "             name  MDVP:Fo(Hz)  MDVP:Fhi(Hz)  MDVP:Flo(Hz)  MDVP:Jitter(%)  \\\n",
      "0  phon_R01_S01_1      119.992       157.302        74.997         0.00784   \n",
      "1  phon_R01_S01_2      122.400       148.650       113.819         0.00968   \n",
      "2  phon_R01_S01_3      116.682       131.111       111.555         0.01050   \n",
      "3  phon_R01_S01_4      116.676       137.871       111.366         0.00997   \n",
      "4  phon_R01_S01_5      116.014       141.781       110.655         0.01284   \n",
      "\n",
      "   MDVP:Jitter(Abs)  MDVP:RAP  MDVP:PPQ  Jitter:DDP  MDVP:Shimmer  ...  \\\n",
      "0           0.00007   0.00370   0.00554     0.01109       0.04374  ...   \n",
      "1           0.00008   0.00465   0.00696     0.01394       0.06134  ...   \n",
      "2           0.00009   0.00544   0.00781     0.01633       0.05233  ...   \n",
      "3           0.00009   0.00502   0.00698     0.01505       0.05492  ...   \n",
      "4           0.00011   0.00655   0.00908     0.01966       0.06425  ...   \n",
      "\n",
      "   Shimmer:DDA      NHR     HNR  status      RPDE       DFA   spread1  \\\n",
      "0      0.06545  0.02211  21.033       1  0.414783  0.815285 -4.813031   \n",
      "1      0.09403  0.01929  19.085       1  0.458359  0.819521 -4.075192   \n",
      "2      0.08270  0.01309  20.651       1  0.429895  0.825288 -4.443179   \n",
      "3      0.08771  0.01353  20.644       1  0.434969  0.819235 -4.117501   \n",
      "4      0.10470  0.01767  19.649       1  0.417356  0.823484 -3.747787   \n",
      "\n",
      "    spread2        D2       PPE  \n",
      "0  0.266482  2.301442  0.284654  \n",
      "1  0.335590  2.486855  0.368674  \n",
      "2  0.311173  2.342259  0.332634  \n",
      "3  0.334147  2.405554  0.368975  \n",
      "4  0.234513  2.332180  0.410335  \n",
      "\n",
      "[5 rows x 24 columns]\n"
     ]
    }
   ],
   "source": [
    "import pandas as pd\n",
    "\n",
    "df = pd.read_csv('parkinsons.data')\n",
    "print(df.head())"
   ]
  },
  {
   "cell_type": "code",
   "execution_count": 5,
   "metadata": {},
   "outputs": [
    {
     "name": "stdout",
     "output_type": "stream",
     "text": [
      "['MDVP:Fo(Hz)', 'MDVP:Fhi(Hz)', 'MDVP:Flo(Hz)', 'MDVP:Jitter(%)', 'MDVP:Jitter(Abs)', 'MDVP:RAP', 'MDVP:PPQ', 'Jitter:DDP', 'MDVP:Shimmer', 'MDVP:Shimmer(dB)', 'Shimmer:APQ3', 'Shimmer:APQ5', 'MDVP:APQ', 'Shimmer:DDA', 'HNR']\n",
      "0      1\n",
      "1      1\n",
      "2      1\n",
      "3      1\n",
      "4      1\n",
      "      ..\n",
      "190    0\n",
      "191    0\n",
      "192    0\n",
      "193    0\n",
      "194    0\n",
      "Name: status, Length: 195, dtype: int64\n"
     ]
    }
   ],
   "source": [
    "features = list(df.columns.values)\n",
    "features.remove('status')\n",
    "features.remove('name')\n",
    "features.remove('NHR')\n",
    "features.remove('RPDE')\n",
    "features.remove('spread1')\n",
    "features.remove('spread2')\n",
    "features.remove('DFA')\n",
    "features.remove('D2')\n",
    "features.remove('PPE')\n",
    "print(features)\n",
    "print(df['status'])\n",
    "X = df[features]\n",
    "y = df['status']"
   ]
  },
  {
   "cell_type": "code",
   "execution_count": 6,
   "metadata": {},
   "outputs": [
    {
     "name": "stdout",
     "output_type": "stream",
     "text": [
      "   MDVP:Fo(Hz)  MDVP:Fhi(Hz)  MDVP:Flo(Hz)  MDVP:Jitter(%)  MDVP:Jitter(Abs)  \\\n",
      "0      119.992       157.302        74.997         0.00784           0.00007   \n",
      "1      122.400       148.650       113.819         0.00968           0.00008   \n",
      "2      116.682       131.111       111.555         0.01050           0.00009   \n",
      "3      116.676       137.871       111.366         0.00997           0.00009   \n",
      "4      116.014       141.781       110.655         0.01284           0.00011   \n",
      "\n",
      "   MDVP:RAP  MDVP:PPQ  Jitter:DDP  MDVP:Shimmer  MDVP:Shimmer(dB)  \\\n",
      "0   0.00370   0.00554     0.01109       0.04374             0.426   \n",
      "1   0.00465   0.00696     0.01394       0.06134             0.626   \n",
      "2   0.00544   0.00781     0.01633       0.05233             0.482   \n",
      "3   0.00502   0.00698     0.01505       0.05492             0.517   \n",
      "4   0.00655   0.00908     0.01966       0.06425             0.584   \n",
      "\n",
      "   Shimmer:APQ3  Shimmer:APQ5  MDVP:APQ  Shimmer:DDA     HNR  \n",
      "0       0.02182       0.03130   0.02971      0.06545  21.033  \n",
      "1       0.03134       0.04518   0.04368      0.09403  19.085  \n",
      "2       0.02757       0.03858   0.03590      0.08270  20.651  \n",
      "3       0.02924       0.04005   0.03772      0.08771  20.644  \n",
      "4       0.03490       0.04825   0.04465      0.10470  19.649  \n"
     ]
    }
   ],
   "source": [
    "print(X.head())"
   ]
  },
  {
   "cell_type": "code",
   "execution_count": 7,
   "metadata": {},
   "outputs": [
    {
     "name": "stdout",
     "output_type": "stream",
     "text": [
      "0    1\n",
      "1    1\n",
      "2    1\n",
      "3    1\n",
      "4    1\n",
      "Name: status, dtype: int64\n"
     ]
    }
   ],
   "source": [
    "print(y.head())"
   ]
  },
  {
   "cell_type": "code",
   "execution_count": 8,
   "metadata": {},
   "outputs": [],
   "source": [
    "from sklearn.model_selection import train_test_split\n",
    "X_train, X_test, y_train, y_test = train_test_split(X, y, test_size=0.3, random_state=0)"
   ]
  },
  {
   "cell_type": "code",
   "execution_count": 9,
   "metadata": {},
   "outputs": [],
   "source": [
    "#Saving the Data\n",
    "import pickle\n",
    "\n",
    "pickle_out = open(\"X.pickle_2\", \"wb\")\n",
    "pickle.dump(X, pickle_out)\n",
    "pickle_out.close()\n",
    "\n",
    "pickle_out = open(\"y.pickle_2\", \"wb\")\n",
    "pickle.dump(y, pickle_out)\n",
    "pickle_out.close()\n"
   ]
  },
  {
   "cell_type": "code",
   "execution_count": 10,
   "metadata": {},
   "outputs": [
    {
     "name": "stdout",
     "output_type": "stream",
     "text": [
      "   MDVP:Fo(Hz)  MDVP:Fhi(Hz)  MDVP:Flo(Hz)  MDVP:Jitter(%)  MDVP:Jitter(Abs)  \\\n",
      "0      119.992       157.302        74.997         0.00784           0.00007   \n",
      "1      122.400       148.650       113.819         0.00968           0.00008   \n",
      "2      116.682       131.111       111.555         0.01050           0.00009   \n",
      "3      116.676       137.871       111.366         0.00997           0.00009   \n",
      "4      116.014       141.781       110.655         0.01284           0.00011   \n",
      "\n",
      "   MDVP:RAP  MDVP:PPQ  Jitter:DDP  MDVP:Shimmer  MDVP:Shimmer(dB)  \\\n",
      "0   0.00370   0.00554     0.01109       0.04374             0.426   \n",
      "1   0.00465   0.00696     0.01394       0.06134             0.626   \n",
      "2   0.00544   0.00781     0.01633       0.05233             0.482   \n",
      "3   0.00502   0.00698     0.01505       0.05492             0.517   \n",
      "4   0.00655   0.00908     0.01966       0.06425             0.584   \n",
      "\n",
      "   Shimmer:APQ3  Shimmer:APQ5  MDVP:APQ  Shimmer:DDA     HNR  \n",
      "0       0.02182       0.03130   0.02971      0.06545  21.033  \n",
      "1       0.03134       0.04518   0.04368      0.09403  19.085  \n",
      "2       0.02757       0.03858   0.03590      0.08270  20.651  \n",
      "3       0.02924       0.04005   0.03772      0.08771  20.644  \n",
      "4       0.03490       0.04825   0.04465      0.10470  19.649  \n"
     ]
    }
   ],
   "source": [
    "#Get Data\n",
    "\n",
    "pickle_in = open(\"X.pickle_2\", \"rb\")\n",
    "X = pickle.load(pickle_in)\n",
    "print(X.head())"
   ]
  },
  {
   "cell_type": "code",
   "execution_count": 11,
   "metadata": {},
   "outputs": [
    {
     "name": "stdout",
     "output_type": "stream",
     "text": [
      "0    1\n",
      "1    1\n",
      "2    1\n",
      "3    1\n",
      "4    1\n",
      "Name: status, dtype: int64\n"
     ]
    }
   ],
   "source": [
    "pickle_in_y = open(\"y.pickle_2\", \"rb\")\n",
    "y = pickle.load(pickle_in_y)\n",
    "print(y.head())"
   ]
  }
 ],
 "metadata": {
  "kernelspec": {
   "display_name": "Python 3",
   "language": "python",
   "name": "python3"
  },
  "language_info": {
   "codemirror_mode": {
    "name": "ipython",
    "version": 3
   },
   "file_extension": ".py",
   "mimetype": "text/x-python",
   "name": "python",
   "nbconvert_exporter": "python",
   "pygments_lexer": "ipython3",
   "version": "3.6.8"
  }
 },
 "nbformat": 4,
 "nbformat_minor": 4
}
