{
 "cells": [
  {
   "cell_type": "code",
   "execution_count": 2,
   "metadata": {},
   "outputs": [],
   "source": [
    "import pickle\n",
    "\n",
    "pickle_in_X = open(\"Data/X.pickle\", \"rb\")\n",
    "X = pickle.load(pickle_in_X)\n",
    "\n",
    "pickle_in_y = open(\"Data/y.pickle\", \"rb\")\n",
    "y = pickle.load(pickle_in_y)"
   ]
  },
  {
   "cell_type": "code",
   "execution_count": 3,
   "metadata": {},
   "outputs": [
    {
     "name": "stdout",
     "output_type": "stream",
     "text": [
      "   MDVP:Fo(Hz)  MDVP:Fhi(Hz)  MDVP:Flo(Hz)  MDVP:Jitter(%)  MDVP:Jitter(Abs)  \\\n",
      "0      119.992       157.302        74.997         0.00784           0.00007   \n",
      "1      122.400       148.650       113.819         0.00968           0.00008   \n",
      "2      116.682       131.111       111.555         0.01050           0.00009   \n",
      "3      116.676       137.871       111.366         0.00997           0.00009   \n",
      "4      116.014       141.781       110.655         0.01284           0.00011   \n",
      "\n",
      "   MDVP:RAP  MDVP:PPQ  Jitter:DDP  MDVP:Shimmer  MDVP:Shimmer(dB)  \\\n",
      "0   0.00370   0.00554     0.01109       0.04374             0.426   \n",
      "1   0.00465   0.00696     0.01394       0.06134             0.626   \n",
      "2   0.00544   0.00781     0.01633       0.05233             0.482   \n",
      "3   0.00502   0.00698     0.01505       0.05492             0.517   \n",
      "4   0.00655   0.00908     0.01966       0.06425             0.584   \n",
      "\n",
      "   Shimmer:APQ3  Shimmer:APQ5  MDVP:APQ  Shimmer:DDA     HNR  \n",
      "0       0.02182       0.03130   0.02971      0.06545  21.033  \n",
      "1       0.03134       0.04518   0.04368      0.09403  19.085  \n",
      "2       0.02757       0.03858   0.03590      0.08270  20.651  \n",
      "3       0.02924       0.04005   0.03772      0.08771  20.644  \n",
      "4       0.03490       0.04825   0.04465      0.10470  19.649  \n"
     ]
    }
   ],
   "source": [
    "print(X.head())"
   ]
  },
  {
   "cell_type": "code",
   "execution_count": 4,
   "metadata": {},
   "outputs": [
    {
     "name": "stdout",
     "output_type": "stream",
     "text": [
      "0    1\n",
      "1    1\n",
      "2    1\n",
      "3    1\n",
      "4    1\n",
      "Name: status, dtype: int64\n"
     ]
    }
   ],
   "source": [
    "print(y.head())"
   ]
  },
  {
   "cell_type": "code",
   "execution_count": 5,
   "metadata": {},
   "outputs": [],
   "source": [
    "#Split model into train and test\n",
    "from sklearn.model_selection import train_test_split\n",
    "\n",
    "X_train, X_test, y_train, y_test = train_test_split(X, y, test_size=0.2, random_state=0)"
   ]
  },
  {
   "cell_type": "code",
   "execution_count": 6,
   "metadata": {
    "scrolled": true
   },
   "outputs": [
    {
     "name": "stdout",
     "output_type": "stream",
     "text": [
      "0.8974358974358975\n"
     ]
    }
   ],
   "source": [
    "from sklearn.ensemble import RandomForestClassifier\n",
    "rfc = RandomForestClassifier(n_estimators = 50)\n",
    "classifier = rfc.fit(X_train, y_train)\n",
    "y_pred = classifier.predict(X_test)\n",
    "print(classifier.score(X_test , y_test))\n"
   ]
  },
  {
   "cell_type": "code",
   "execution_count": 10,
   "metadata": {},
   "outputs": [
    {
     "name": "stdout",
     "output_type": "stream",
     "text": [
      "Wrongly classified samples: 4\n"
     ]
    }
   ],
   "source": [
    "classified_wrong = (y_test != y_pred).sum()\n",
    "print('Wrongly classified samples: {}'.format(classified_wrong))"
   ]
  },
  {
   "cell_type": "code",
   "execution_count": 16,
   "metadata": {},
   "outputs": [],
   "source": [
    "pickle.dump(save_model, open('Model.sav', 'wb'))\n"
   ]
  }
 ],
 "metadata": {
  "kernelspec": {
   "display_name": "Python 3",
   "language": "python",
   "name": "python3"
  },
  "language_info": {
   "codemirror_mode": {
    "name": "ipython",
    "version": 3
   },
   "file_extension": ".py",
   "mimetype": "text/x-python",
   "name": "python",
   "nbconvert_exporter": "python",
   "pygments_lexer": "ipython3",
   "version": "3.6.8"
  }
 },
 "nbformat": 4,
 "nbformat_minor": 4
}
